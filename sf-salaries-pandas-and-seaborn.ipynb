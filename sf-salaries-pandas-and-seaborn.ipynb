{
 "cells": [
  {
   "cell_type": "markdown",
   "id": "c2fd06bc",
   "metadata": {
    "_cell_guid": "b1076dfc-b9ad-4769-8c92-a6c4dae69d19",
    "_uuid": "8f2839f25d086af736a60e9eeb907d3b93b6e0e5",
    "papermill": {
     "duration": 0.007676,
     "end_time": "2022-06-22T16:38:55.059701",
     "exception": false,
     "start_time": "2022-06-22T16:38:55.052025",
     "status": "completed"
    },
    "tags": []
   },
   "source": [
    "**Import Numpy, Pandas and Seaborn**"
   ]
  },
  {
   "cell_type": "code",
   "execution_count": 1,
   "id": "66ee5e4b",
   "metadata": {
    "execution": {
     "iopub.execute_input": "2022-06-22T16:38:55.074965Z",
     "iopub.status.busy": "2022-06-22T16:38:55.074551Z",
     "iopub.status.idle": "2022-06-22T16:38:55.084866Z",
     "shell.execute_reply": "2022-06-22T16:38:55.084069Z"
    },
    "papermill": {
     "duration": 0.020601,
     "end_time": "2022-06-22T16:38:55.087138",
     "exception": false,
     "start_time": "2022-06-22T16:38:55.066537",
     "status": "completed"
    },
    "tags": []
   },
   "outputs": [],
   "source": [
    "import numpy as np\n",
    "import pandas as pd"
   ]
  },
  {
   "cell_type": "code",
   "execution_count": 2,
   "id": "ac96be5f",
   "metadata": {
    "execution": {
     "iopub.execute_input": "2022-06-22T16:38:55.103321Z",
     "iopub.status.busy": "2022-06-22T16:38:55.102621Z",
     "iopub.status.idle": "2022-06-22T16:38:56.304986Z",
     "shell.execute_reply": "2022-06-22T16:38:56.303799Z"
    },
    "papermill": {
     "duration": 1.212994,
     "end_time": "2022-06-22T16:38:56.307629",
     "exception": false,
     "start_time": "2022-06-22T16:38:55.094635",
     "status": "completed"
    },
    "tags": []
   },
   "outputs": [],
   "source": [
    "import matplotlib.pyplot as plt\n",
    "import seaborn as sns\n",
    "%matplotlib inline"
   ]
  },
  {
   "cell_type": "markdown",
   "id": "3c35d6f9",
   "metadata": {
    "papermill": {
     "duration": 0.006901,
     "end_time": "2022-06-22T16:38:56.321159",
     "exception": false,
     "start_time": "2022-06-22T16:38:56.314258",
     "status": "completed"
    },
    "tags": []
   },
   "source": [
    "**Read Salaries.csv as a dataframe called \"sal\"**"
   ]
  },
  {
   "cell_type": "code",
   "execution_count": 3,
   "id": "1b8bebef",
   "metadata": {
    "execution": {
     "iopub.execute_input": "2022-06-22T16:38:56.336528Z",
     "iopub.status.busy": "2022-06-22T16:38:56.335808Z",
     "iopub.status.idle": "2022-06-22T16:38:56.922969Z",
     "shell.execute_reply": "2022-06-22T16:38:56.921820Z"
    },
    "papermill": {
     "duration": 0.598432,
     "end_time": "2022-06-22T16:38:56.926268",
     "exception": false,
     "start_time": "2022-06-22T16:38:56.327836",
     "status": "completed"
    },
    "tags": []
   },
   "outputs": [
    {
     "name": "stderr",
     "output_type": "stream",
     "text": [
      "/opt/conda/lib/python3.7/site-packages/IPython/core/interactiveshell.py:3552: DtypeWarning: Columns (3,4,5,6,12) have mixed types.Specify dtype option on import or set low_memory=False.\n",
      "  exec(code_obj, self.user_global_ns, self.user_ns)\n"
     ]
    }
   ],
   "source": [
    "sal = pd.read_csv(\"../input/sf-salaries/Salaries.csv\")"
   ]
  },
  {
   "cell_type": "markdown",
   "id": "3a8e94a1",
   "metadata": {
    "papermill": {
     "duration": 0.006747,
     "end_time": "2022-06-22T16:38:56.939690",
     "exception": false,
     "start_time": "2022-06-22T16:38:56.932943",
     "status": "completed"
    },
    "tags": []
   },
   "source": [
    "**Check the head of the DataFrame**"
   ]
  },
  {
   "cell_type": "code",
   "execution_count": 4,
   "id": "122dfb8a",
   "metadata": {
    "execution": {
     "iopub.execute_input": "2022-06-22T16:38:56.955948Z",
     "iopub.status.busy": "2022-06-22T16:38:56.955285Z",
     "iopub.status.idle": "2022-06-22T16:38:56.977921Z",
     "shell.execute_reply": "2022-06-22T16:38:56.976943Z"
    },
    "papermill": {
     "duration": 0.033808,
     "end_time": "2022-06-22T16:38:56.980418",
     "exception": false,
     "start_time": "2022-06-22T16:38:56.946610",
     "status": "completed"
    },
    "tags": []
   },
   "outputs": [
    {
     "data": {
      "text/html": [
       "<div>\n",
       "<style scoped>\n",
       "    .dataframe tbody tr th:only-of-type {\n",
       "        vertical-align: middle;\n",
       "    }\n",
       "\n",
       "    .dataframe tbody tr th {\n",
       "        vertical-align: top;\n",
       "    }\n",
       "\n",
       "    .dataframe thead th {\n",
       "        text-align: right;\n",
       "    }\n",
       "</style>\n",
       "<table border=\"1\" class=\"dataframe\">\n",
       "  <thead>\n",
       "    <tr style=\"text-align: right;\">\n",
       "      <th></th>\n",
       "      <th>Id</th>\n",
       "      <th>EmployeeName</th>\n",
       "      <th>JobTitle</th>\n",
       "      <th>BasePay</th>\n",
       "      <th>OvertimePay</th>\n",
       "      <th>OtherPay</th>\n",
       "      <th>Benefits</th>\n",
       "      <th>TotalPay</th>\n",
       "      <th>TotalPayBenefits</th>\n",
       "      <th>Year</th>\n",
       "      <th>Notes</th>\n",
       "      <th>Agency</th>\n",
       "      <th>Status</th>\n",
       "    </tr>\n",
       "  </thead>\n",
       "  <tbody>\n",
       "    <tr>\n",
       "      <th>0</th>\n",
       "      <td>1</td>\n",
       "      <td>NATHANIEL FORD</td>\n",
       "      <td>GENERAL MANAGER-METROPOLITAN TRANSIT AUTHORITY</td>\n",
       "      <td>167411.18</td>\n",
       "      <td>0.0</td>\n",
       "      <td>400184.25</td>\n",
       "      <td>NaN</td>\n",
       "      <td>567595.43</td>\n",
       "      <td>567595.43</td>\n",
       "      <td>2011</td>\n",
       "      <td>NaN</td>\n",
       "      <td>San Francisco</td>\n",
       "      <td>NaN</td>\n",
       "    </tr>\n",
       "    <tr>\n",
       "      <th>1</th>\n",
       "      <td>2</td>\n",
       "      <td>GARY JIMENEZ</td>\n",
       "      <td>CAPTAIN III (POLICE DEPARTMENT)</td>\n",
       "      <td>155966.02</td>\n",
       "      <td>245131.88</td>\n",
       "      <td>137811.38</td>\n",
       "      <td>NaN</td>\n",
       "      <td>538909.28</td>\n",
       "      <td>538909.28</td>\n",
       "      <td>2011</td>\n",
       "      <td>NaN</td>\n",
       "      <td>San Francisco</td>\n",
       "      <td>NaN</td>\n",
       "    </tr>\n",
       "    <tr>\n",
       "      <th>2</th>\n",
       "      <td>3</td>\n",
       "      <td>ALBERT PARDINI</td>\n",
       "      <td>CAPTAIN III (POLICE DEPARTMENT)</td>\n",
       "      <td>212739.13</td>\n",
       "      <td>106088.18</td>\n",
       "      <td>16452.6</td>\n",
       "      <td>NaN</td>\n",
       "      <td>335279.91</td>\n",
       "      <td>335279.91</td>\n",
       "      <td>2011</td>\n",
       "      <td>NaN</td>\n",
       "      <td>San Francisco</td>\n",
       "      <td>NaN</td>\n",
       "    </tr>\n",
       "    <tr>\n",
       "      <th>3</th>\n",
       "      <td>4</td>\n",
       "      <td>CHRISTOPHER CHONG</td>\n",
       "      <td>WIRE ROPE CABLE MAINTENANCE MECHANIC</td>\n",
       "      <td>77916.0</td>\n",
       "      <td>56120.71</td>\n",
       "      <td>198306.9</td>\n",
       "      <td>NaN</td>\n",
       "      <td>332343.61</td>\n",
       "      <td>332343.61</td>\n",
       "      <td>2011</td>\n",
       "      <td>NaN</td>\n",
       "      <td>San Francisco</td>\n",
       "      <td>NaN</td>\n",
       "    </tr>\n",
       "    <tr>\n",
       "      <th>4</th>\n",
       "      <td>5</td>\n",
       "      <td>PATRICK GARDNER</td>\n",
       "      <td>DEPUTY CHIEF OF DEPARTMENT,(FIRE DEPARTMENT)</td>\n",
       "      <td>134401.6</td>\n",
       "      <td>9737.0</td>\n",
       "      <td>182234.59</td>\n",
       "      <td>NaN</td>\n",
       "      <td>326373.19</td>\n",
       "      <td>326373.19</td>\n",
       "      <td>2011</td>\n",
       "      <td>NaN</td>\n",
       "      <td>San Francisco</td>\n",
       "      <td>NaN</td>\n",
       "    </tr>\n",
       "  </tbody>\n",
       "</table>\n",
       "</div>"
      ],
      "text/plain": [
       "   Id       EmployeeName                                        JobTitle  \\\n",
       "0   1     NATHANIEL FORD  GENERAL MANAGER-METROPOLITAN TRANSIT AUTHORITY   \n",
       "1   2       GARY JIMENEZ                 CAPTAIN III (POLICE DEPARTMENT)   \n",
       "2   3     ALBERT PARDINI                 CAPTAIN III (POLICE DEPARTMENT)   \n",
       "3   4  CHRISTOPHER CHONG            WIRE ROPE CABLE MAINTENANCE MECHANIC   \n",
       "4   5    PATRICK GARDNER    DEPUTY CHIEF OF DEPARTMENT,(FIRE DEPARTMENT)   \n",
       "\n",
       "     BasePay OvertimePay   OtherPay Benefits   TotalPay  TotalPayBenefits  \\\n",
       "0  167411.18         0.0  400184.25      NaN  567595.43         567595.43   \n",
       "1  155966.02   245131.88  137811.38      NaN  538909.28         538909.28   \n",
       "2  212739.13   106088.18    16452.6      NaN  335279.91         335279.91   \n",
       "3    77916.0    56120.71   198306.9      NaN  332343.61         332343.61   \n",
       "4   134401.6      9737.0  182234.59      NaN  326373.19         326373.19   \n",
       "\n",
       "   Year  Notes         Agency Status  \n",
       "0  2011    NaN  San Francisco    NaN  \n",
       "1  2011    NaN  San Francisco    NaN  \n",
       "2  2011    NaN  San Francisco    NaN  \n",
       "3  2011    NaN  San Francisco    NaN  \n",
       "4  2011    NaN  San Francisco    NaN  "
      ]
     },
     "execution_count": 4,
     "metadata": {},
     "output_type": "execute_result"
    }
   ],
   "source": [
    "sal.head()"
   ]
  },
  {
   "cell_type": "markdown",
   "id": "cba322af",
   "metadata": {
    "papermill": {
     "duration": 0.006814,
     "end_time": "2022-06-22T16:38:56.995335",
     "exception": false,
     "start_time": "2022-06-22T16:38:56.988521",
     "status": "completed"
    },
    "tags": []
   },
   "source": [
    "**Use the .info() method to find out how many entries there are.**"
   ]
  },
  {
   "cell_type": "code",
   "execution_count": 5,
   "id": "558bd7dd",
   "metadata": {
    "execution": {
     "iopub.execute_input": "2022-06-22T16:38:57.012105Z",
     "iopub.status.busy": "2022-06-22T16:38:57.011324Z",
     "iopub.status.idle": "2022-06-22T16:38:57.087380Z",
     "shell.execute_reply": "2022-06-22T16:38:57.085413Z"
    },
    "papermill": {
     "duration": 0.087652,
     "end_time": "2022-06-22T16:38:57.090019",
     "exception": false,
     "start_time": "2022-06-22T16:38:57.002367",
     "status": "completed"
    },
    "tags": []
   },
   "outputs": [
    {
     "name": "stdout",
     "output_type": "stream",
     "text": [
      "<class 'pandas.core.frame.DataFrame'>\n",
      "RangeIndex: 148654 entries, 0 to 148653\n",
      "Data columns (total 13 columns):\n",
      " #   Column            Non-Null Count   Dtype  \n",
      "---  ------            --------------   -----  \n",
      " 0   Id                148654 non-null  int64  \n",
      " 1   EmployeeName      148654 non-null  object \n",
      " 2   JobTitle          148654 non-null  object \n",
      " 3   BasePay           148049 non-null  object \n",
      " 4   OvertimePay       148654 non-null  object \n",
      " 5   OtherPay          148654 non-null  object \n",
      " 6   Benefits          112495 non-null  object \n",
      " 7   TotalPay          148654 non-null  float64\n",
      " 8   TotalPayBenefits  148654 non-null  float64\n",
      " 9   Year              148654 non-null  int64  \n",
      " 10  Notes             0 non-null       float64\n",
      " 11  Agency            148654 non-null  object \n",
      " 12  Status            38119 non-null   object \n",
      "dtypes: float64(3), int64(2), object(8)\n",
      "memory usage: 14.7+ MB\n"
     ]
    }
   ],
   "source": [
    "sal.info()"
   ]
  },
  {
   "cell_type": "markdown",
   "id": "80c1c1f4",
   "metadata": {
    "papermill": {
     "duration": 0.006762,
     "end_time": "2022-06-22T16:38:57.103972",
     "exception": false,
     "start_time": "2022-06-22T16:38:57.097210",
     "status": "completed"
    },
    "tags": []
   },
   "source": [
    "**What is the average TotalPay?**"
   ]
  },
  {
   "cell_type": "code",
   "execution_count": 6,
   "id": "305ddb0d",
   "metadata": {
    "execution": {
     "iopub.execute_input": "2022-06-22T16:38:57.120949Z",
     "iopub.status.busy": "2022-06-22T16:38:57.120194Z",
     "iopub.status.idle": "2022-06-22T16:38:57.128007Z",
     "shell.execute_reply": "2022-06-22T16:38:57.126938Z"
    },
    "papermill": {
     "duration": 0.019032,
     "end_time": "2022-06-22T16:38:57.130134",
     "exception": false,
     "start_time": "2022-06-22T16:38:57.111102",
     "status": "completed"
    },
    "tags": []
   },
   "outputs": [
    {
     "data": {
      "text/plain": [
       "74768.32197169267"
      ]
     },
     "execution_count": 6,
     "metadata": {},
     "output_type": "execute_result"
    }
   ],
   "source": [
    "sal[\"TotalPay\"].mean()"
   ]
  },
  {
   "cell_type": "markdown",
   "id": "66f472db",
   "metadata": {
    "papermill": {
     "duration": 0.006999,
     "end_time": "2022-06-22T16:38:57.144512",
     "exception": false,
     "start_time": "2022-06-22T16:38:57.137513",
     "status": "completed"
    },
    "tags": []
   },
   "source": [
    "**What is the highest amount of TotalPay in the dataset?**"
   ]
  },
  {
   "cell_type": "code",
   "execution_count": 7,
   "id": "5898155e",
   "metadata": {
    "execution": {
     "iopub.execute_input": "2022-06-22T16:38:57.160784Z",
     "iopub.status.busy": "2022-06-22T16:38:57.160376Z",
     "iopub.status.idle": "2022-06-22T16:38:57.167949Z",
     "shell.execute_reply": "2022-06-22T16:38:57.166906Z"
    },
    "papermill": {
     "duration": 0.018574,
     "end_time": "2022-06-22T16:38:57.170262",
     "exception": false,
     "start_time": "2022-06-22T16:38:57.151688",
     "status": "completed"
    },
    "tags": []
   },
   "outputs": [
    {
     "data": {
      "text/plain": [
       "567595.43"
      ]
     },
     "execution_count": 7,
     "metadata": {},
     "output_type": "execute_result"
    }
   ],
   "source": [
    "sal[\"TotalPay\"].max()"
   ]
  },
  {
   "cell_type": "markdown",
   "id": "dabf7e10",
   "metadata": {
    "papermill": {
     "duration": 0.007191,
     "end_time": "2022-06-22T16:38:57.185006",
     "exception": false,
     "start_time": "2022-06-22T16:38:57.177815",
     "status": "completed"
    },
    "tags": []
   },
   "source": [
    "**What is the job title of \"JOSEPH DRISCOLL\"?**"
   ]
  },
  {
   "cell_type": "code",
   "execution_count": 8,
   "id": "5aebe92a",
   "metadata": {
    "execution": {
     "iopub.execute_input": "2022-06-22T16:38:57.201675Z",
     "iopub.status.busy": "2022-06-22T16:38:57.200668Z",
     "iopub.status.idle": "2022-06-22T16:38:57.221895Z",
     "shell.execute_reply": "2022-06-22T16:38:57.221106Z"
    },
    "papermill": {
     "duration": 0.031562,
     "end_time": "2022-06-22T16:38:57.223787",
     "exception": false,
     "start_time": "2022-06-22T16:38:57.192225",
     "status": "completed"
    },
    "tags": []
   },
   "outputs": [
    {
     "data": {
      "text/plain": [
       "24    CAPTAIN, FIRE SUPPRESSION\n",
       "Name: JobTitle, dtype: object"
      ]
     },
     "execution_count": 8,
     "metadata": {},
     "output_type": "execute_result"
    }
   ],
   "source": [
    "sal[sal[\"EmployeeName\"]==\"JOSEPH DRISCOLL\"][\"JobTitle\"]"
   ]
  },
  {
   "cell_type": "markdown",
   "id": "09419434",
   "metadata": {
    "papermill": {
     "duration": 0.00703,
     "end_time": "2022-06-22T16:38:57.238437",
     "exception": false,
     "start_time": "2022-06-22T16:38:57.231407",
     "status": "completed"
    },
    "tags": []
   },
   "source": [
    "**How much does JOSEPH DRISCOLL make (including benefits)?**"
   ]
  },
  {
   "cell_type": "code",
   "execution_count": 9,
   "id": "3145a9e0",
   "metadata": {
    "execution": {
     "iopub.execute_input": "2022-06-22T16:38:57.255061Z",
     "iopub.status.busy": "2022-06-22T16:38:57.254411Z",
     "iopub.status.idle": "2022-06-22T16:38:57.273238Z",
     "shell.execute_reply": "2022-06-22T16:38:57.272116Z"
    },
    "papermill": {
     "duration": 0.029926,
     "end_time": "2022-06-22T16:38:57.275603",
     "exception": false,
     "start_time": "2022-06-22T16:38:57.245677",
     "status": "completed"
    },
    "tags": []
   },
   "outputs": [
    {
     "data": {
      "text/plain": [
       "24    270324.91\n",
       "Name: TotalPayBenefits, dtype: float64"
      ]
     },
     "execution_count": 9,
     "metadata": {},
     "output_type": "execute_result"
    }
   ],
   "source": [
    "sal[sal[\"EmployeeName\"]==\"JOSEPH DRISCOLL\"][\"TotalPayBenefits\"]"
   ]
  },
  {
   "cell_type": "markdown",
   "id": "59f42917",
   "metadata": {
    "papermill": {
     "duration": 0.007448,
     "end_time": "2022-06-22T16:38:57.290631",
     "exception": false,
     "start_time": "2022-06-22T16:38:57.283183",
     "status": "completed"
    },
    "tags": []
   },
   "source": [
    "**What is the name of highest paid person (including benefits)?**"
   ]
  },
  {
   "cell_type": "code",
   "execution_count": 10,
   "id": "cf9194a6",
   "metadata": {
    "execution": {
     "iopub.execute_input": "2022-06-22T16:38:57.307432Z",
     "iopub.status.busy": "2022-06-22T16:38:57.306834Z",
     "iopub.status.idle": "2022-06-22T16:38:57.318111Z",
     "shell.execute_reply": "2022-06-22T16:38:57.317427Z"
    },
    "papermill": {
     "duration": 0.022092,
     "end_time": "2022-06-22T16:38:57.320100",
     "exception": false,
     "start_time": "2022-06-22T16:38:57.298008",
     "status": "completed"
    },
    "tags": []
   },
   "outputs": [
    {
     "data": {
      "text/plain": [
       "0    NATHANIEL FORD\n",
       "Name: EmployeeName, dtype: object"
      ]
     },
     "execution_count": 10,
     "metadata": {},
     "output_type": "execute_result"
    }
   ],
   "source": [
    "sal[sal[\"TotalPayBenefits\"]==sal.max(numeric_only=True)[\"TotalPayBenefits\"]][\"EmployeeName\"]"
   ]
  },
  {
   "cell_type": "markdown",
   "id": "77f70f05",
   "metadata": {
    "papermill": {
     "duration": 0.007283,
     "end_time": "2022-06-22T16:38:57.334884",
     "exception": false,
     "start_time": "2022-06-22T16:38:57.327601",
     "status": "completed"
    },
    "tags": []
   },
   "source": [
    "**What is the name of lowest paid person (including benefits)?**"
   ]
  },
  {
   "cell_type": "code",
   "execution_count": 11,
   "id": "5042548b",
   "metadata": {
    "execution": {
     "iopub.execute_input": "2022-06-22T16:38:57.351871Z",
     "iopub.status.busy": "2022-06-22T16:38:57.351258Z",
     "iopub.status.idle": "2022-06-22T16:38:57.362782Z",
     "shell.execute_reply": "2022-06-22T16:38:57.361928Z"
    },
    "papermill": {
     "duration": 0.022518,
     "end_time": "2022-06-22T16:38:57.364819",
     "exception": false,
     "start_time": "2022-06-22T16:38:57.342301",
     "status": "completed"
    },
    "tags": []
   },
   "outputs": [
    {
     "data": {
      "text/plain": [
       "148653    Joe Lopez\n",
       "Name: EmployeeName, dtype: object"
      ]
     },
     "execution_count": 11,
     "metadata": {},
     "output_type": "execute_result"
    }
   ],
   "source": [
    "sal[sal[\"TotalPayBenefits\"]==sal.min(numeric_only=True)[\"TotalPayBenefits\"]][\"EmployeeName\"]"
   ]
  },
  {
   "cell_type": "markdown",
   "id": "242a8160",
   "metadata": {
    "papermill": {
     "duration": 0.007454,
     "end_time": "2022-06-22T16:38:57.380043",
     "exception": false,
     "start_time": "2022-06-22T16:38:57.372589",
     "status": "completed"
    },
    "tags": []
   },
   "source": [
    "**What was the average (mean) TotalPay of all employees per year? (2011-2014)?**"
   ]
  },
  {
   "cell_type": "code",
   "execution_count": 12,
   "id": "4b642808",
   "metadata": {
    "execution": {
     "iopub.execute_input": "2022-06-22T16:38:57.397404Z",
     "iopub.status.busy": "2022-06-22T16:38:57.396792Z",
     "iopub.status.idle": "2022-06-22T16:38:57.426705Z",
     "shell.execute_reply": "2022-06-22T16:38:57.425913Z"
    },
    "papermill": {
     "duration": 0.041261,
     "end_time": "2022-06-22T16:38:57.428954",
     "exception": false,
     "start_time": "2022-06-22T16:38:57.387693",
     "status": "completed"
    },
    "tags": []
   },
   "outputs": [
    {
     "data": {
      "text/plain": [
       "Year\n",
       "2011    71744.103871\n",
       "2012    74113.262265\n",
       "2013    77611.443142\n",
       "2014    75463.918140\n",
       "Name: TotalPay, dtype: float64"
      ]
     },
     "execution_count": 12,
     "metadata": {},
     "output_type": "execute_result"
    }
   ],
   "source": [
    "sal.groupby([\"Year\"]).mean()[\"TotalPay\"]"
   ]
  },
  {
   "cell_type": "markdown",
   "id": "688b3a46",
   "metadata": {
    "papermill": {
     "duration": 0.008029,
     "end_time": "2022-06-22T16:38:57.444736",
     "exception": false,
     "start_time": "2022-06-22T16:38:57.436707",
     "status": "completed"
    },
    "tags": []
   },
   "source": [
    "**How many unique job titles are there?**"
   ]
  },
  {
   "cell_type": "code",
   "execution_count": 13,
   "id": "d32acfd7",
   "metadata": {
    "execution": {
     "iopub.execute_input": "2022-06-22T16:38:57.462330Z",
     "iopub.status.busy": "2022-06-22T16:38:57.461731Z",
     "iopub.status.idle": "2022-06-22T16:38:57.678363Z",
     "shell.execute_reply": "2022-06-22T16:38:57.677233Z"
    },
    "papermill": {
     "duration": 0.228317,
     "end_time": "2022-06-22T16:38:57.680822",
     "exception": false,
     "start_time": "2022-06-22T16:38:57.452505",
     "status": "completed"
    },
    "tags": []
   },
   "outputs": [
    {
     "data": {
      "text/plain": [
       "2159"
      ]
     },
     "execution_count": 13,
     "metadata": {},
     "output_type": "execute_result"
    }
   ],
   "source": [
    "sal.nunique()[\"JobTitle\"]"
   ]
  },
  {
   "cell_type": "markdown",
   "id": "7fdb7744",
   "metadata": {
    "papermill": {
     "duration": 0.007532,
     "end_time": "2022-06-22T16:38:57.696305",
     "exception": false,
     "start_time": "2022-06-22T16:38:57.688773",
     "status": "completed"
    },
    "tags": []
   },
   "source": [
    "**What are the top 5 most common jobs?**"
   ]
  },
  {
   "cell_type": "code",
   "execution_count": 14,
   "id": "2e935d9b",
   "metadata": {
    "execution": {
     "iopub.execute_input": "2022-06-22T16:38:57.713807Z",
     "iopub.status.busy": "2022-06-22T16:38:57.713413Z",
     "iopub.status.idle": "2022-06-22T16:38:57.733233Z",
     "shell.execute_reply": "2022-06-22T16:38:57.732025Z"
    },
    "papermill": {
     "duration": 0.031486,
     "end_time": "2022-06-22T16:38:57.735636",
     "exception": false,
     "start_time": "2022-06-22T16:38:57.704150",
     "status": "completed"
    },
    "tags": []
   },
   "outputs": [
    {
     "data": {
      "text/plain": [
       "Transit Operator                7036\n",
       "Special Nurse                   4389\n",
       "Registered Nurse                3736\n",
       "Public Svc Aide-Public Works    2518\n",
       "Police Officer 3                2421\n",
       "Name: JobTitle, dtype: int64"
      ]
     },
     "execution_count": 14,
     "metadata": {},
     "output_type": "execute_result"
    }
   ],
   "source": [
    "sal[\"JobTitle\"].value_counts().head(5)"
   ]
  },
  {
   "cell_type": "markdown",
   "id": "c8c83ccc",
   "metadata": {
    "papermill": {
     "duration": 0.007769,
     "end_time": "2022-06-22T16:38:57.751161",
     "exception": false,
     "start_time": "2022-06-22T16:38:57.743392",
     "status": "completed"
    },
    "tags": []
   },
   "source": [
    "**How many Job Titles were represented by only one person in 2013? (e.g. Job Titles with only one occurence in 2013)**"
   ]
  },
  {
   "cell_type": "code",
   "execution_count": 15,
   "id": "43d7f1c3",
   "metadata": {
    "execution": {
     "iopub.execute_input": "2022-06-22T16:38:57.768815Z",
     "iopub.status.busy": "2022-06-22T16:38:57.767895Z",
     "iopub.status.idle": "2022-06-22T16:38:57.783729Z",
     "shell.execute_reply": "2022-06-22T16:38:57.782949Z"
    },
    "papermill": {
     "duration": 0.027012,
     "end_time": "2022-06-22T16:38:57.785885",
     "exception": false,
     "start_time": "2022-06-22T16:38:57.758873",
     "status": "completed"
    },
    "tags": []
   },
   "outputs": [
    {
     "data": {
      "text/plain": [
       "202"
      ]
     },
     "execution_count": 15,
     "metadata": {},
     "output_type": "execute_result"
    }
   ],
   "source": [
    "sum(sal[sal[\"Year\"]==2013][\"JobTitle\"].value_counts()==1)"
   ]
  },
  {
   "cell_type": "markdown",
   "id": "3c05d69f",
   "metadata": {
    "papermill": {
     "duration": 0.00746,
     "end_time": "2022-06-22T16:38:57.801120",
     "exception": false,
     "start_time": "2022-06-22T16:38:57.793660",
     "status": "completed"
    },
    "tags": []
   },
   "source": [
    "**How many people have the word \"Chief\" in their job title?**"
   ]
  },
  {
   "cell_type": "code",
   "execution_count": 16,
   "id": "546d6e8c",
   "metadata": {
    "execution": {
     "iopub.execute_input": "2022-06-22T16:38:57.818795Z",
     "iopub.status.busy": "2022-06-22T16:38:57.818112Z",
     "iopub.status.idle": "2022-06-22T16:38:57.823480Z",
     "shell.execute_reply": "2022-06-22T16:38:57.822340Z"
    },
    "papermill": {
     "duration": 0.016945,
     "end_time": "2022-06-22T16:38:57.825727",
     "exception": false,
     "start_time": "2022-06-22T16:38:57.808782",
     "status": "completed"
    },
    "tags": []
   },
   "outputs": [],
   "source": [
    "def chiefString(x):\n",
    "    if \"chief\" in x.lower():\n",
    "        return True\n",
    "    else:\n",
    "        return False"
   ]
  },
  {
   "cell_type": "code",
   "execution_count": 17,
   "id": "f71e4361",
   "metadata": {
    "execution": {
     "iopub.execute_input": "2022-06-22T16:38:57.843186Z",
     "iopub.status.busy": "2022-06-22T16:38:57.842797Z",
     "iopub.status.idle": "2022-06-22T16:38:57.910698Z",
     "shell.execute_reply": "2022-06-22T16:38:57.909511Z"
    },
    "papermill": {
     "duration": 0.079597,
     "end_time": "2022-06-22T16:38:57.913207",
     "exception": false,
     "start_time": "2022-06-22T16:38:57.833610",
     "status": "completed"
    },
    "tags": []
   },
   "outputs": [
    {
     "data": {
      "text/plain": [
       "627"
      ]
     },
     "execution_count": 17,
     "metadata": {},
     "output_type": "execute_result"
    }
   ],
   "source": [
    "sum(sal[\"JobTitle\"].apply(lambda x: chiefString(x)))"
   ]
  },
  {
   "cell_type": "markdown",
   "id": "74e4d89b",
   "metadata": {
    "papermill": {
     "duration": 0.007868,
     "end_time": "2022-06-22T16:38:57.929411",
     "exception": false,
     "start_time": "2022-06-22T16:38:57.921543",
     "status": "completed"
    },
    "tags": []
   },
   "source": [
    "**Is there a correlation between length of the Job Title string and Salary?**"
   ]
  },
  {
   "cell_type": "code",
   "execution_count": 18,
   "id": "57c55a70",
   "metadata": {
    "execution": {
     "iopub.execute_input": "2022-06-22T16:38:57.947403Z",
     "iopub.status.busy": "2022-06-22T16:38:57.946737Z",
     "iopub.status.idle": "2022-06-22T16:38:57.984326Z",
     "shell.execute_reply": "2022-06-22T16:38:57.983551Z"
    },
    "papermill": {
     "duration": 0.049625,
     "end_time": "2022-06-22T16:38:57.986905",
     "exception": false,
     "start_time": "2022-06-22T16:38:57.937280",
     "status": "completed"
    },
    "tags": []
   },
   "outputs": [],
   "source": [
    "sal['TitleLength'] = sal['JobTitle'].apply(len)"
   ]
  },
  {
   "cell_type": "code",
   "execution_count": 19,
   "id": "3ff644c9",
   "metadata": {
    "execution": {
     "iopub.execute_input": "2022-06-22T16:38:58.005298Z",
     "iopub.status.busy": "2022-06-22T16:38:58.004643Z",
     "iopub.status.idle": "2022-06-22T16:38:58.022308Z",
     "shell.execute_reply": "2022-06-22T16:38:58.021531Z"
    },
    "papermill": {
     "duration": 0.029485,
     "end_time": "2022-06-22T16:38:58.024436",
     "exception": false,
     "start_time": "2022-06-22T16:38:57.994951",
     "status": "completed"
    },
    "tags": []
   },
   "outputs": [
    {
     "data": {
      "text/html": [
       "<div>\n",
       "<style scoped>\n",
       "    .dataframe tbody tr th:only-of-type {\n",
       "        vertical-align: middle;\n",
       "    }\n",
       "\n",
       "    .dataframe tbody tr th {\n",
       "        vertical-align: top;\n",
       "    }\n",
       "\n",
       "    .dataframe thead th {\n",
       "        text-align: right;\n",
       "    }\n",
       "</style>\n",
       "<table border=\"1\" class=\"dataframe\">\n",
       "  <thead>\n",
       "    <tr style=\"text-align: right;\">\n",
       "      <th></th>\n",
       "      <th>TitleLength</th>\n",
       "      <th>TotalPayBenefits</th>\n",
       "    </tr>\n",
       "  </thead>\n",
       "  <tbody>\n",
       "    <tr>\n",
       "      <th>TitleLength</th>\n",
       "      <td>1.000000</td>\n",
       "      <td>-0.036878</td>\n",
       "    </tr>\n",
       "    <tr>\n",
       "      <th>TotalPayBenefits</th>\n",
       "      <td>-0.036878</td>\n",
       "      <td>1.000000</td>\n",
       "    </tr>\n",
       "  </tbody>\n",
       "</table>\n",
       "</div>"
      ],
      "text/plain": [
       "                  TitleLength  TotalPayBenefits\n",
       "TitleLength          1.000000         -0.036878\n",
       "TotalPayBenefits    -0.036878          1.000000"
      ]
     },
     "execution_count": 19,
     "metadata": {},
     "output_type": "execute_result"
    }
   ],
   "source": [
    "sal[['TitleLength','TotalPayBenefits']].corr() # No correlation."
   ]
  },
  {
   "cell_type": "markdown",
   "id": "dad1819e",
   "metadata": {
    "papermill": {
     "duration": 0.007829,
     "end_time": "2022-06-22T16:38:58.040278",
     "exception": false,
     "start_time": "2022-06-22T16:38:58.032449",
     "status": "completed"
    },
    "tags": []
   },
   "source": [
    "**Total Pay Benefits histogram**"
   ]
  },
  {
   "cell_type": "code",
   "execution_count": 20,
   "id": "f6a3655c",
   "metadata": {
    "execution": {
     "iopub.execute_input": "2022-06-22T16:38:58.058520Z",
     "iopub.status.busy": "2022-06-22T16:38:58.057840Z",
     "iopub.status.idle": "2022-06-22T16:38:58.525853Z",
     "shell.execute_reply": "2022-06-22T16:38:58.524794Z"
    },
    "papermill": {
     "duration": 0.479782,
     "end_time": "2022-06-22T16:38:58.528004",
     "exception": false,
     "start_time": "2022-06-22T16:38:58.048222",
     "status": "completed"
    },
    "tags": []
   },
   "outputs": [
    {
     "data": {
      "image/png": "[encoded data removed]",
      "text/plain": [
       "<Figure size 720x360 with 1 Axes>"
      ]
     },
     "metadata": {
      "needs_background": "light"
     },
     "output_type": "display_data"
    }
   ],
   "source": [
    "sns.displot(sal[\"TotalPayBenefits\"], kde=False, bins = 50, aspect=2)\n",
    "plt.margins(x=0)"
   ]
  },
  {
   "cell_type": "markdown",
   "id": "bab89592",
   "metadata": {
    "papermill": {
     "duration": 0.008485,
     "end_time": "2022-06-22T16:38:58.544630",
     "exception": false,
     "start_time": "2022-06-22T16:38:58.536145",
     "status": "completed"
    },
    "tags": []
   },
   "source": [
    "**Boxplot analysis per year**"
   ]
  },
  {
   "cell_type": "code",
   "execution_count": 21,
   "id": "e0329852",
   "metadata": {
    "execution": {
     "iopub.execute_input": "2022-06-22T16:38:58.562539Z",
     "iopub.status.busy": "2022-06-22T16:38:58.562132Z",
     "iopub.status.idle": "2022-06-22T16:38:58.772006Z",
     "shell.execute_reply": "2022-06-22T16:38:58.770970Z"
    },
    "papermill": {
     "duration": 0.221365,
     "end_time": "2022-06-22T16:38:58.774143",
     "exception": false,
     "start_time": "2022-06-22T16:38:58.552778",
     "status": "completed"
    },
    "tags": []
   },
   "outputs": [
    {
     "data": {
      "text/plain": [
       "<AxesSubplot:xlabel='Year', ylabel='TotalPayBenefits'>"
      ]
     },
     "execution_count": 21,
     "metadata": {},
     "output_type": "execute_result"
    },
    {
     "data": {
      "image/png": "[encoded data removed]",
      "text/plain": [
       "<Figure size 432x288 with 1 Axes>"
      ]
     },
     "metadata": {
      "needs_background": "light"
     },
     "output_type": "display_data"
    }
   ],
   "source": [
    "sns.boxplot(x=sal[\"Year\"],y=sal[\"TotalPayBenefits\"])"
   ]
  },
  {
   "cell_type": "markdown",
   "id": "87fe4350",
   "metadata": {
    "papermill": {
     "duration": 0.008646,
     "end_time": "2022-06-22T16:38:58.792327",
     "exception": false,
     "start_time": "2022-06-22T16:38:58.783681",
     "status": "completed"
    },
    "tags": []
   },
   "source": [
    "**Conclusion**\n",
    "* Most of the salaries are at about 7000.00\n",
    "* Since 2012 there has been no considerable increase in salary, although some employees receive salaries well above the average"
   ]
  }
 ],
 "metadata": {
  "kernelspec": {
   "display_name": "Python 3",
   "language": "python",
   "name": "python3"
  },
  "language_info": {
   "codemirror_mode": {
    "name": "ipython",
    "version": 3
   },
   "file_extension": ".py",
   "mimetype": "text/x-python",
   "name": "python",
   "nbconvert_exporter": "python",
   "pygments_lexer": "ipython3",
   "version": "3.7.12"
  },
  "papermill": {
   "default_parameters": {},
   "duration": 13.331375,
   "end_time": "2022-06-22T16:38:59.522258",
   "environment_variables": {},
   "exception": null,
   "input_path": "__notebook__.ipynb",
   "output_path": "__notebook__.ipynb",
   "parameters": {},
   "start_time": "2022-06-22T16:38:46.190883",
   "version": "2.3.4"
  }
 },
 "nbformat": 4,
 "nbformat_minor": 5
}
